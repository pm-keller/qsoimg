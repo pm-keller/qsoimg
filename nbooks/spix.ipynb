{
 "cells": [
  {
   "cell_type": "markdown",
   "metadata": {},
   "source": [
    "# Compute In-Band Spectral Indices of Detected Sources"
   ]
  },
  {
   "cell_type": "code",
   "execution_count": 1,
   "metadata": {},
   "outputs": [],
   "source": [
    "import os\n",
    "import numpy as np\n",
    "\n",
    "from scipy.optimize import curve_fit\n",
    "from astropy.io import fits\n",
    "from astropy.wcs import WCS\n",
    "from astropy.coordinates import SkyCoord\n",
    "from astropy.table import QTable\n",
    "import astropy.units as u\n",
    "\n",
    "from uncertainties import correlated_values\n",
    "from uncertainties.umath import *\n",
    "\n",
    "import matplotlib.pyplot as plt"
   ]
  },
  {
   "cell_type": "markdown",
   "metadata": {},
   "source": [
    "## Define Functions"
   ]
  },
  {
   "cell_type": "code",
   "execution_count": 2,
   "metadata": {},
   "outputs": [],
   "source": [
    "def get_target_pixel(hdu, target_coord_str):\n",
    "    \"\"\"Get the pixel number corresponding to the target coordinates\n",
    "\n",
    "    Parameters\n",
    "    ----------\n",
    "    hdu : object\n",
    "        FITS Header Data Unit as returned by astropy.fits.open()\n",
    "    target_coord_str : str\n",
    "        Coordinate string that can be accepted by astropy.coordinates.Skycoord()\n",
    "        in units of hours (RA) and degrees (Dec)\n",
    "\n",
    "    Returns\n",
    "    -------\n",
    "    tuple of floats\n",
    "        target pixel\n",
    "    \"\"\"\n",
    "    \n",
    "    # Extract the image data and header\n",
    "    image_header = hdu.header\n",
    "\n",
    "    # Create a WCS object from the FITS header\n",
    "    wcs = WCS(image_header)\n",
    "\n",
    "    # Convert the target coordinate to SkyCoord object\n",
    "    target_coord = SkyCoord(target_coord_str, unit=(u.hourangle, u.deg))\n",
    "\n",
    "    # Convert the target coordinate to pixel coordinates\n",
    "    target_pixel = wcs.all_world2pix(target_coord.ra.deg, target_coord.dec.deg, 0, 0, 1)\n",
    "    \n",
    "    # Round the pixel coordinates to the nearest integer\n",
    "    target_pixel = np.round(target_pixel).astype(int) - np.array([1, 1, 1, 1])\n",
    "\n",
    "    return target_pixel\n",
    "\n",
    "def get_cutout(data, cutout, pc):\n",
    "    \"\"\"Get a cutour image of a given size at a given pixel coordinate\n",
    "\n",
    "    Parameters\n",
    "    ----------\n",
    "    data : ndarray\n",
    "        2D numpy data array\n",
    "    cutout : int\n",
    "        cutout size in number of pixels\n",
    "    pc : tuple of ints\n",
    "        pixel coordinates of cutout centre\n",
    "\n",
    "    Returns\n",
    "    -------\n",
    "    ndarray\n",
    "        2D numpy data array cutout\n",
    "    \"\"\"\n",
    "    N = data.shape[0]\n",
    "\n",
    "    nstart0 = max(pc[0] - cutout // 2, 0)\n",
    "    nend0 = min(pc[0] + cutout // 2 + 1, N)\n",
    "    nstart1 = max(pc[1] - cutout // 2, 0)\n",
    "    nend1 = min(pc[1] + cutout // 2 + 1, N)\n",
    "\n",
    "    return data[nstart0:nend0, nstart1:nend1]\n",
    "\n",
    "def gaussian_2d(xy, amplitude, xo, yo, sigma_x, sigma_y, theta):\n",
    "    \"\"\"2D Guassian function\n",
    "\n",
    "    Parameters\n",
    "    ----------\n",
    "    xy : tuple of ndarrays\n",
    "        x and y values (x, y) at which to evaluate 2D Gaussian\n",
    "    amplitude : float\n",
    "        amplitude of Gaussian\n",
    "    xo : float\n",
    "        x-mean of Gaussian\n",
    "    yo : _type_\n",
    "        y-mean of Gaussian\n",
    "    sigma_x : float\n",
    "        x standard deviation of Gaussian\n",
    "    sigma_y : float\n",
    "        y standard deviation of Gaussian\n",
    "    theta : float\n",
    "        position angle of 2D Gaussian\n",
    "\n",
    "    Returns\n",
    "    -------\n",
    "    ndarray\n",
    "        Values of 2D Gaussian evaluated at xy-coordinates.\n",
    "    \"\"\"\n",
    "    x, y = xy\n",
    "    xo = float(xo)\n",
    "    yo = float(yo)\n",
    "    a = (np.cos(theta)**2) / (2 * sigma_x**2) + (np.sin(theta)**2) / (2 * sigma_y**2)\n",
    "    b = -(np.sin(2 * theta)) / (4 * sigma_x**2) + (np.sin(2 * theta)) / (4 * sigma_y**2)\n",
    "    c = (np.sin(theta)**2) / (2 * sigma_x**2) + (np.cos(theta)**2) / (2 * sigma_y**2)\n",
    "    g = amplitude * np.exp(- (a * ((x - xo)**2) + 2 * b * (x - xo) * (y - yo) + c * ((y - yo)**2)))\n",
    "\n",
    "    return g.ravel()\n",
    "\n",
    "def gauss_fit_2d(data, bounds):\n",
    "    \"\"\"Fit a 2D Gaussian to data\n",
    "\n",
    "    Parameters\n",
    "    ----------\n",
    "    data : ndarray\n",
    "        2D data array\n",
    "    bounds : tuple\n",
    "        bounds of (amplitude, x-mean, y-mean, x standard deviation, y standard deviation and position angle)\n",
    "        given as a tuple of lists of 2 floats ([lower, upper], ...)\n",
    "\n",
    "    Returns\n",
    "    -------\n",
    "    tuple\n",
    "        best-fit parameters as returned by scipy.optimize.curve_fit()\n",
    "    \"\"\"\n",
    "    N = data.shape[0]\n",
    "\n",
    "    # Generate some sample data\n",
    "    x = np.arange(-N//2, N//2)\n",
    "    y = np.arange(-N//2, N//2)\n",
    "    X, Y = np.meshgrid(x, y)\n",
    "\n",
    "    # Perform the Gaussian fit\n",
    "    popt, pcov = curve_fit(gaussian_2d, (X, Y), data.ravel(), p0=(0, 0, 0, 5, 5, 0), bounds=bounds)\n",
    "\n",
    "    # Extract the fitted parameters\n",
    "    return popt    \n",
    "\n",
    "def model_spectrum(freq, log_S0, alpha):\n",
    "    \"\"\"Power-law spectrum\n",
    "\n",
    "    Parameters\n",
    "    ----------\n",
    "    freq : ndarray of floats\n",
    "        frequency data\n",
    "    log_S0 : float\n",
    "        log of flux at reference frequency 1.4 GHz\n",
    "    alpha : float\n",
    "        spectral index\n",
    "\n",
    "    Returns\n",
    "    -------\n",
    "    ndarray of floats\n",
    "        power-law spectrum evaluated at given frequencies\n",
    "    \"\"\"\n",
    "    return 10**(log_S0) * (freq / 1.4e9) ** alpha"
   ]
  },
  {
   "cell_type": "markdown",
   "metadata": {},
   "source": [
    "## Load Data and Perform Spectral Index Fitting\n",
    "\n",
    "A power law,\n",
    "\n",
    "\\begin{equation}\n",
    "S_\\alpha(\\nu) = 10^{x} \\left(\\frac{\\nu}{\\nu_0}\\right)^\\alpha,\n",
    "\\end{equation}\n",
    "is fitted to the data, where $x=\\log{S_0}$ is the logarithm of the flux density $S_0$ at the reference frequency $\\nu_0$ and $\\alpha$ is the spectral index. In addition to the best-fit spectra, we would like to provide the uncertainty of the fitted flux densities. This is achieved by computing the logarithm of the power-law,\n",
    "\n",
    "\\begin{equation}\n",
    "\\log{S_\\alpha(\\nu)} = x + \\alpha \\log{\\left(\\frac{\\nu}{\\nu_0}\\right)},\n",
    "\\end{equation}\n",
    "which is linear in the fitting parameters $x$ and $\\alpha$, thus allowing for a straight-forward computation of the variance of $\\log{S_\\alpha(\\nu)}$:\n",
    "\n",
    "\\begin{equation}\n",
    "\\mathrm{var}\\left(\\log{S_\\alpha(\\nu)}\\right) = \\mathrm{var}\\left(x\\right) + \\mathrm{var}\\left(\\alpha\\right) \\log{\\left(\\frac{\\nu}{\\nu_0}\\right)}^2 + 2\\,\\mathrm{cov}\\left(x, \\alpha\\right)\\log{\\left(\\frac{\\nu}{\\nu_0}\\right)}\n",
    "\\end{equation}\n",
    "\n",
    "The variances and covariances of the right-hand side of this equation are obtained from the numerical fitting procedure. The variance of $S_\\alpha(\\nu)$ can then be approximated as\n",
    "\n",
    "\\begin{equation}\n",
    "\\mathrm{var}\\left(S_\\alpha(\\nu)\\right) \\approx \\mathrm{var}\\left(\\log{S_\\alpha(\\nu)}\\right) \\left(S_\\alpha(\\nu) \\ln{10}\\right)^2\n",
    "\\end{equation}\n",
    "which makes use of standard linear propagation of uncertainties. The standard deviations\n",
    "\n",
    "\\begin{align}\n",
    "\\sigma_S(\\nu) &= \\sqrt{\\mathrm{var}\\left(S_\\alpha(\\nu)\\right)}\\\\\n",
    "\\sigma_{\\log{S}}(\\nu) &= \\sqrt{\\mathrm{var}\\left(\\log{S_\\alpha(\\nu)}\\right)}\n",
    "\\end{align}\n",
    "define the uncertainties of the (log) flux density and $[\\log{S_\\alpha(\\nu)} - 2\\sigma_{\\log{S}}(\\nu), \\log{S_\\alpha(\\nu)} + 2\\sigma_{\\log{S}}(\\nu)]$ defines the $\\approx95\\%$ confidence bands of the fit as shown in th plot below.\n",
    "\n"
   ]
  },
  {
   "cell_type": "code",
   "execution_count": 3,
   "metadata": {},
   "outputs": [
    {
     "name": "stderr",
     "output_type": "stream",
     "text": [
      "WARNING: FITSFixedWarning: 'datfix' made the change 'Set MJD-OBS to 58741.050914 from DATE-OBS'. [astropy.wcs.wcs]\n"
     ]
    },
    {
     "name": "stdout",
     "output_type": "stream",
     "text": [
      "log10(S0) = -2.809+/-0.017, alpha = -1.43+/-0.22, S0 = 1.55+/-0.06 mJy\n"
     ]
    },
    {
     "name": "stderr",
     "output_type": "stream",
     "text": [
      "WARNING: FITSFixedWarning: 'datfix' made the change 'Set MJD-OBS to 58741.021492 from DATE-OBS'. [astropy.wcs.wcs]\n"
     ]
    },
    {
     "name": "stdout",
     "output_type": "stream",
     "text": [
      "log10(S0) = -2.480+/-0.010, alpha = -0.73+/-0.12, S0 = 3.31+/-0.08 mJy\n"
     ]
    },
    {
     "name": "stderr",
     "output_type": "stream",
     "text": [
      "WARNING: FITSFixedWarning: 'datfix' made the change 'Set MJD-OBS to 58741.236887 from DATE-OBS'. [astropy.wcs.wcs]\n"
     ]
    },
    {
     "name": "stdout",
     "output_type": "stream",
     "text": [
      "log10(S0) = -3.11+/-0.04, alpha = -1.5+/-0.5, S0 = 0.78+/-0.07 mJy\n"
     ]
    }
   ],
   "source": [
    "# list of objects on which to perform spectral index fitting\n",
    "obsnames = [\"QSO-J1427+3312\", \"QSO-J1429+5447\", \"QSO-J2318-3113\"]\n",
    "\n",
    "# read quasar catalogue\n",
    "qso_catalog = QTable.read('../tables/Quasar_catalog_Banados+16_Matsuoka+19a_Matsuoka+19b_Wang+18_Wang+19_Reed+19_Yang+20.txt', format='ascii')\n",
    "\n",
    "# creat empty dictory to store fitting results\n",
    "obs_dict = {}\n",
    "\n",
    "for obsname in obsnames:\n",
    "    catalog_name = list(obsname)\n",
    "    catalog_name[3] = \"_\"\n",
    "    catalog_name = \"\".join(catalog_name)\n",
    "    \n",
    "    qso_data = qso_catalog[qso_catalog[\"QSO-Name\"] ==  catalog_name]\n",
    "\n",
    "    fluxints = []\n",
    "    freqs = []\n",
    "    mad_list = []\n",
    "    peaks = []\n",
    "\n",
    "    for i in range(9):\n",
    "        # read FITS data\n",
    "        imfits = os.path.join(f\"/rds/user/pmk46/hpc-work/19A-056/imaging/{obsname}/clean/\", f\"{obsname}-res.im-000{i}-image.fits\")\n",
    "        hdu = fits.open(imfits)[0]\n",
    "        header = hdu.header\n",
    "        image_data = hdu.data[0, 0]\n",
    "        \n",
    "        # get image cutout\n",
    "        Nsmall = 9\n",
    "        ra = qso_data[\"RA\"].value[0]\n",
    "        dec = qso_data[\"Dec\"].value[0]\n",
    "        pc = get_target_pixel(hdu, f\"{ra} {dec}\")[[0, 1]]\n",
    "        peak = image_data[pc[0], pc[1]]\n",
    "        image_data_small = get_cutout(image_data, Nsmall, pc)\n",
    "        image_data = get_cutout(image_data, 128, pc)\n",
    "        mad_list.append(np.median(1.4826 * np.abs(image_data - np.median(image_data))))\n",
    "\n",
    "        beam = header[\"BMIN\"] * header[\"BMAJ\"] / (header[\"CDELT2\"] * 2.355)**2\n",
    "        amplitude, x_mean, y_mean, x_stddev, y_stddev, theta = gauss_fit_2d(image_data_small, bounds=([-1e5, -4, -4, 1, 1, -np.pi/4], [1e5, 4, 4, 8, 8, np.pi/4]))\n",
    "        fluxint = (amplitude * x_stddev * y_stddev / beam)\n",
    "        \n",
    "        freqs.append(header[\"CRVAL3\"])\n",
    "        fluxints.append(fluxint)\n",
    "        peaks.append(peak)\n",
    "\n",
    "    # Perform spectral index fit\n",
    "    params, cov = curve_fit(model_spectrum, freqs, peaks, sigma=mad_list)\n",
    "    log_S0, alpha = params\n",
    "    S0 = 10**log_S0\n",
    "    reg_band = lambda freq, nsig: nsig * np.sqrt(cov[0, 0] + np.log10(freq / 1.4e9) * (np.log10(freq / 1.4e9) * cov[1, 1] + cov[0, 1] + cov[1, 0]))\n",
    "    obs_dict.update({obsname: (freqs, fluxints, peaks, mad_list, S0, alpha, cov, reg_band)})\n",
    "    \n",
    "    ulog_S0, ualpha = correlated_values([log_S0, alpha], cov)\n",
    "    print(f\"log10(S0) = {ulog_S0}, alpha = {ualpha}, S0 = {model_spectrum(1.4e9, ulog_S0, alpha) * 1000} mJy\")"
   ]
  },
  {
   "cell_type": "markdown",
   "metadata": {},
   "source": [
    "## Print Fitting Results\n",
    "Check error propagation. The error of the fitted flux density is propagated as follows: $\\sigma_S \\approx \\sigma_{\\log_{10}{S}} \\times S \\log_{10}$."
   ]
  },
  {
   "cell_type": "code",
   "execution_count": 4,
   "metadata": {},
   "outputs": [
    {
     "name": "stdout",
     "output_type": "stream",
     "text": [
      "QSO-J1427+3312: S0 = 1.5517420689017276 mJy, std(S0) = 0.06038547564646013 mJy, alpha = -1.4331179937577232, std(alpha) = 0.0500936823868338\n",
      "QSO-J1429+5447: S0 = 3.310523654438719 mJy, std(S0) = 0.07506201425068895 mJy, alpha = -0.7297839704477525, std(alpha) = 0.013994476454448275\n",
      "QSO-J2318-3113: S0 = 0.7760049754624223 mJy, std(S0) = 0.07151523693863672 mJy, alpha = -1.476846952547392, std(alpha) = 0.2588834847897556\n"
     ]
    }
   ],
   "source": [
    "for obs in obs_dict:\n",
    "    print(f\"{obs}: S0 = {obs_dict[obs][4]*1000} mJy, std(S0) = {np.sqrt(obs_dict[obs][6][0, 0]) * obs_dict[obs][4] * np.log(10)*1000} mJy, alpha = {obs_dict[obs][5]}, std(alpha) = {obs_dict[obs][6][1, 1]}\")"
   ]
  },
  {
   "cell_type": "markdown",
   "metadata": {},
   "source": [
    "## Plot Fitting Results"
   ]
  },
  {
   "cell_type": "code",
   "execution_count": 5,
   "metadata": {},
   "outputs": [
    {
     "data": {
      "image/png": "[encoded data removed]",
      "text/plain": [
       "<Figure size 550x400 with 1 Axes>"
      ]
     },
     "metadata": {},
     "output_type": "display_data"
    }
   ],
   "source": [
    "fig = plt.figure(figsize=(5.5, 4))\n",
    "\n",
    "# define colors and markers for the different sources\n",
    "colors = [\"k\", \"k\", \"k\"]\n",
    "markers = [\"^\", \"s\", \"d\"]\n",
    "\n",
    "for obsname, color, marker in zip(obs_dict, colors, markers):\n",
    "    (freqs, fluxints, peaks, mad_list, S0, alpha, cov, reg_band) = obs_dict[obsname]\n",
    "    sig_alpha = cov[1, 1]\n",
    "\n",
    "    x = np.linspace(0.1, 4.1, 1000) * 1e9\n",
    "    y = model_spectrum(x, np.log10(S0), alpha)\n",
    "\n",
    "    # plot data points\n",
    "    plt.errorbar(np.array(freqs) / 1e9, np.array(fluxints) * 1e3, yerr=np.array(mad_list) * 1e3, fmt=marker, color=color, label=obsname[4:], capsize=2, capthick=.5, elinewidth=.5)\n",
    "    \n",
    "    # plot regression line and bands\n",
    "    plt.plot(x / 1e9, y * 1e3, color=color, linestyle=\"--\")\n",
    "    plt.plot(x / 1e9, y * 10**reg_band(x, 2) * 1e3, color=color, linestyle=\"-\", linewidth=.1)\n",
    "    plt.plot(x / 1e9, y / 10**reg_band(x, 2) * 1e3, color=color, linestyle=\"-\", linewidth=.1)\n",
    "    plt.fill_between(x / 1e9, y * 10**reg_band(x, 2) * 1e3, y / 10**reg_band(x, 2) * 1e3, color=color, alpha=0.1)\n",
    "\n",
    "    # print spectral indices\n",
    "    if obsname[4:] == \"J2318-3113\":\n",
    "        plt.text(1.45, model_spectrum(1.56e9, np.log10(S0), alpha) * 1.3e3 / 2, rf\"$\\alpha={alpha.round(2)}\\pm{np.sqrt(cov[1,1]).round(2)}$\", color=color)\n",
    "    else:\n",
    "        plt.text(1.45, model_spectrum(1.56e9, np.log10(S0), alpha) * 1.3e3, rf\"$\\alpha={alpha.round(2)}\\pm{np.sqrt(cov[1,1]).round(2)}$\", color=color)\n",
    "\n",
    "# add literature values\n",
    "plt.errorbar(1.4, 1.730, yerr=0.131, fmt=markers[0], color=\"k\", fillstyle=\"none\", capsize=2, capthick=.5, elinewidth=.5)\n",
    "plt.errorbar(1.4, 2.930, yerr=0.152, fmt=markers[1], color=\"k\", fillstyle=\"none\", capsize=2, capthick=.5, elinewidth=.5)\n",
    "plt.errorbar(1.4, 0.52, yerr=0.17, fmt=markers[2], color=\"k\", fillstyle=\"none\", capsize=2, capthick=.5, elinewidth=.5)\n",
    "plt.errorbar(3, 1.822, yerr=0.194, fmt=markers[1], color=\"k\", fillstyle=\"none\", capsize=2, capthick=.5, elinewidth=.5, markersize=6)\n",
    "plt.errorbar(0.144, 5.873, yerr=0.083, fmt=markers[0], color=\"k\", fillstyle=\"none\", capsize=2, capthick=.5, elinewidth=.5, markersize=6)\n",
    "\n",
    "# format and save plot\n",
    "plt.xscale(\"log\")\n",
    "plt.yscale(\"log\")\n",
    "plt.xlim([1.3, 2.1])\n",
    "plt.ylim([7e-2, 1e1])\n",
    "plt.xlabel(\"Frequency (GHz)\")\n",
    "plt.ylabel(\"Integrated Flux Density (mJy)\")\n",
    "plt.title(\"Spectral Index Fitting\")\n",
    "plt.minorticks_on()\n",
    "plt.legend(loc=3)\n",
    "plt.xticks(np.arange(1.3, 2.2, 0.1), np.arange(1.3, 2.2, 0.1).round(1))\n",
    "plt.tight_layout()\n",
    "plt.savefig(\"../../plots/spix.pdf\")"
   ]
  }
 ],
 "metadata": {
  "kernelspec": {
   "display_name": "Python 3",
   "language": "python",
   "name": "python3"
  },
  "language_info": {
   "codemirror_mode": {
    "name": "ipython",
    "version": 3
   },
   "file_extension": ".py",
   "mimetype": "text/x-python",
   "name": "python",
   "nbconvert_exporter": "python",
   "pygments_lexer": "ipython3",
   "version": "3.8.16"
  },
  "orig_nbformat": 4
 },
 "nbformat": 4,
 "nbformat_minor": 2
}

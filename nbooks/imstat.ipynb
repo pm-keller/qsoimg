{
 "cells": [
  {
   "attachments": {},
   "cell_type": "markdown",
   "metadata": {},
   "source": [
    "# Get Statistics of Final Images"
   ]
  },
  {
   "cell_type": "code",
   "execution_count": 14,
   "metadata": {},
   "outputs": [],
   "source": [
    "import os\n",
    "import numpy as np\n",
    "from astropy.io import fits\n",
    "from astropy.table import QTable\n",
    "\n",
    "import matplotlib.pyplot as plt\n",
    "from astropy.wcs import WCS"
   ]
  },
  {
   "cell_type": "code",
   "execution_count": 4,
   "metadata": {},
   "outputs": [
    {
     "name": "stdout",
     "output_type": "stream",
     "text": [
      "FlatLambdaCDM(H0=70.0 km / (Mpc s), Om0=0.3, Tcmb0=2.725 K, Neff=3.04, m_nu=[0. 0. 0.] eV, Ob0=None)\n"
     ]
    }
   ],
   "source": [
    "from astropy.cosmology import FlatLambdaCDM\n",
    "import astropy.units as u\n",
    "cosmo = FlatLambdaCDM(H0=70 * u.km / u.s / u.Mpc, Tcmb0=2.725 * u.K, Om0=0.3)\n",
    "print(cosmo)"
   ]
  },
  {
   "attachments": {},
   "cell_type": "markdown",
   "metadata": {},
   "source": [
    "## Load Image"
   ]
  },
  {
   "cell_type": "code",
   "execution_count": 6,
   "metadata": {},
   "outputs": [],
   "source": [
    "cell = 0.3 # arcsec\n",
    "obsname = \"QSO-J1429+5447\"\n",
    "imdir = \"/rds/user/pmk46/hpc-work/19A-056/final\"\n",
    "imfits = os.path.join(imdir, \"images\", f\"{obsname}-res.im-MFS-image.fits\")\n",
    "imfitsV = os.path.join(imdir, \"stokes-V\", f\"{obsname}-res-Stokes-V.im-MFS-image.fits\")\n",
    "qso_catalog = QTable.read('Quasar_catalog_Banados+16_Matsuoka+19a_Matsuoka+19b_Wang+18_Wang+19_Reed+19_Yang+20.txt', format='ascii')\n",
    "qsoname = list(obsname)\n",
    "qsoname[3] = \"_\"\n",
    "qsoname = \"\".join(qsoname)\n",
    "\n",
    "image_data = fits.open(imfits)[0].data[0, 0]\n",
    "image_data_V = fits.open(imfitsV)[0].data[0, 0]\n",
    "header = fits.open(imfits)[0].header\n",
    "beam = header[\"BMIN\"] * header[\"BMAJ\"] / (header[\"CDELT2\"] * 2.355)**2\n",
    "\n",
    "peak_flux_px = np.unravel_index(np.argmax(image_data), image_data.shape)\n",
    "peak_flux = image_data[peak_flux_px] * 1000 # mJy\n",
    "centre_px = np.array(image_data.shape) // 2\n",
    "peak_flux_dist = cell * np.sqrt(np.sum((peak_flux_px - centre_px)**2)) / 60 # arcmin\n",
    "\n",
    "cutout_size = 2048\n",
    "\n",
    "def get_cutout(data, cutout_size):\n",
    "    \"\"\" \n",
    "    Get a cutout of the centre of a 2D data array.\n",
    "    \"\"\"\n",
    "\n",
    "    N = data.shape[0]\n",
    "    pc = N // 2\n",
    "\n",
    "    nstart = max(pc - cutout_size // 2, 0)\n",
    "    nend = min(pc + cutout_size // 2, N)\n",
    "    return data[nstart:nend, nstart:nend]\n",
    "\n",
    "image_data_small = get_cutout(image_data, 16)\n",
    "image_data = get_cutout(image_data, cutout_size)\n",
    "image_data_V = get_cutout(image_data_V, cutout_size)"
   ]
  },
  {
   "attachments": {},
   "cell_type": "markdown",
   "metadata": {},
   "source": [
    "## Fit 2D Gaussian to Image Data"
   ]
  },
  {
   "cell_type": "code",
   "execution_count": 13,
   "metadata": {},
   "outputs": [
    {
     "name": "stdout",
     "output_type": "stream",
     "text": [
      "Fitted Parameters:\n",
      "Amplitude: 0.002966245202249019\n",
      "Center (x_mean, y_mean): -0.10883822015460043 -0.021555697467459136\n",
      "Standard Deviations (x_stddev, y_stddev): 1.6582406039640616 1.8886683929640673\n",
      "Integrated Flux Density (Jy): 0.0028847832741908494\n",
      "log Luminosity (W/Hz): 27.090855883687844\n"
     ]
    }
   ],
   "source": [
    "import numpy as np\n",
    "from astropy.modeling import models, fitting\n",
    "\n",
    "# Generate some sample data\n",
    "N = image_data_small.shape[0]\n",
    "\n",
    "x = np.arange(-N//2, N//2)\n",
    "y = np.arange(-N//2, N//2)\n",
    "X, Y = np.meshgrid(x, y)\n",
    "\n",
    "# Create a 2D Gaussian model\n",
    "gaussian_init = models.Gaussian2D(peak_flux, 0, 0, 5, 5)\n",
    "\n",
    "# Define the fitter and fit the model to the data\n",
    "fitter = fitting.LevMarLSQFitter()\n",
    "gaussian_fit = fitter(gaussian_init, X, Y, image_data_small)\n",
    "\n",
    "# Extract the fitted parameters\n",
    "amplitude = gaussian_fit.amplitude.value\n",
    "x_mean = gaussian_fit.x_mean.value\n",
    "y_mean = gaussian_fit.y_mean.value\n",
    "x_stddev = gaussian_fit.x_stddev.value\n",
    "y_stddev = gaussian_fit.y_stddev.value\n",
    "fluxint = amplitude * x_stddev * y_stddev / beam\n",
    "z = qso_catalog[qso_catalog[\"QSO-Name\"] == obsname][\"Redshift\"].value[0]\n",
    "dl = cosmo.luminosity_distance(z).to(\"m\").value\n",
    "luminosity = fluxint * 4 * np.pi * dl**2 * 1e-26\n",
    "\n",
    "print(\"Fitted Parameters:\")\n",
    "print(\"Amplitude:\", amplitude)\n",
    "print(\"Center (x_mean, y_mean):\", x_mean, y_mean)\n",
    "print(\"Standard Deviations (x_stddev, y_stddev):\", x_stddev, y_stddev)\n",
    "print(\"Integrated Flux Density (Jy):\", fluxint)\n",
    "print(\"log Luminosity (W/Hz):\", np.log10(luminosity))\n"
   ]
  },
  {
   "attachments": {},
   "cell_type": "markdown",
   "metadata": {},
   "source": [
    "## Compute Image Statistics"
   ]
  },
  {
   "cell_type": "code",
   "execution_count": 4,
   "metadata": {},
   "outputs": [
    {
     "name": "stdout",
     "output_type": "stream",
     "text": [
      "31.828604638576508 0.07597925520970984\n",
      "STOKES I: RMS: 6.28825364401564e-05 Jy, MAD: 3.571399325846869e-05 Jy\n",
      "STOKES V: RMS: 4.0160692151403055e-05 Jy, MAD: 4.0136671061554805e-05 Jy\n"
     ]
    }
   ],
   "source": [
    "rms = np.sqrt(np.mean(image_data**2))\n",
    "rmsV = np.sqrt(np.mean(image_data_V**2))\n",
    "mad = 1.4826 * np.median(np.abs(image_data - np.median(image_data)))\n",
    "madV = 1.4826 * np.median(np.abs(image_data_V - np.median(image_data_V)))\n",
    "rms_ratio_IV = rms / rmsV\n",
    "mad_ratio_IV = mad / madV\n",
    "snr = np.max(image_data_small) / mad\n",
    "\n",
    "print(peak_flux, peak_flux_dist / 60)\n",
    "print(f\"STOKES I: RMS: {rms} Jy, MAD: {mad} Jy\")\n",
    "print(f\"STOKES V: RMS: {rmsV} Jy, MAD: {madV} Jy\")"
   ]
  },
  {
   "cell_type": "code",
   "execution_count": 7,
   "metadata": {},
   "outputs": [
    {
     "data": {
      "text/plain": [
       "<matplotlib.image.AxesImage at 0x2b57786a5520>"
      ]
     },
     "execution_count": 7,
     "metadata": {},
     "output_type": "execute_result"
    },
    {
     "data": {
      "image/png": "[encoded data removed]",
      "text/plain": [
       "<Figure size 640x480 with 1 Axes>"
      ]
     },
     "metadata": {},
     "output_type": "display_data"
    }
   ],
   "source": [
    "\n",
    "plt.imshow(image_data_small, vmin=-0.0002, vmax=0.0002)"
   ]
  },
  {
   "attachments": {},
   "cell_type": "markdown",
   "metadata": {},
   "source": [
    "## Print Self-Calibration Solution Intervals"
   ]
  },
  {
   "cell_type": "code",
   "execution_count": 44,
   "metadata": {},
   "outputs": [
    {
     "name": "stdout",
     "output_type": "stream",
     "text": [
      "41.733333333333334\n"
     ]
    }
   ],
   "source": [
    "imdir = \"/rds/user/pmk46/hpc-work/19A-056/imaging\"\n",
    "selfcaldir   = os.path.join(imdir, f\"{obsname}\", \"selfcal\")\n",
    "tself_file = os.path.join(selfcaldir, \"tself.txt\")\n",
    "solint_file = os.path.join(selfcaldir, \"solint.pickle\")\n",
    "\n",
    "import pickle\n",
    "with open(solint_file, \"rb\") as file:\n",
    "    solint_dict = pickle.load(file)\n",
    "\n",
    "print(solint_dict[\"ST\"])\n"
   ]
  },
  {
   "attachments": {},
   "cell_type": "markdown",
   "metadata": {},
   "source": []
  },
  {
   "attachments": {},
   "cell_type": "markdown",
   "metadata": {},
   "source": [
    "## Print Flagging Statistics"
   ]
  },
  {
   "cell_type": "code",
   "execution_count": 45,
   "metadata": {},
   "outputs": [],
   "source": [
    "flaggingdir = os.path.join(imdir, f\"{obsname}\", \"flagging\")\n",
    "flagging_before = os.path.join(flaggingdir, \"ao_flags_summary_before.npy\")\n",
    "flagging_after = os.path.join(flaggingdir, \"rflagavg_flags_summary_after.npy\")\n",
    "\n",
    "flagstats_before = np.load(flagging_before, allow_pickle=True).item()\n",
    "flagstats_after = np.load(flagging_after, allow_pickle=True).item()\n"
   ]
  },
  {
   "cell_type": "code",
   "execution_count": 46,
   "metadata": {},
   "outputs": [
    {
     "name": "stdout",
     "output_type": "stream",
     "text": [
      "1.5031995025117142\n"
     ]
    }
   ],
   "source": [
    "flagstat_list = []\n",
    "\n",
    "for spw in flagstats_before[\"spw\"]:\n",
    "    flagstat_list.append((flagstats_after[\"spw\"][spw][\"flagged\"] - flagstats_before[\"spw\"][spw][\"flagged\"]) / flagstats_before[\"spw\"][spw][\"total\"] * 100)\n",
    "\n",
    "print(np.mean(flagstat_list))"
   ]
  },
  {
   "attachments": {},
   "cell_type": "markdown",
   "metadata": {},
   "source": [
    "## Plot Sky Position"
   ]
  },
  {
   "cell_type": "code",
   "execution_count": 20,
   "metadata": {},
   "outputs": [
    {
     "name": "stdout",
     "output_type": "stream",
     "text": [
      "Ref Ref-Num Ref-Name QSO-Name IAU-Name  RA Dec Redshift M_1450\n",
      "--- ------- -------- -------- -------- --- --- -------- ------\n"
     ]
    }
   ],
   "source": [
    "#qso_catalog[qso_catalog[\"QSO-Name\"] == obsname][\"Redshift\"].value[0]\n",
    "print(qso_catalog[qso_catalog[\"QSO-Name\"] == obsname])"
   ]
  },
  {
   "cell_type": "code",
   "execution_count": null,
   "metadata": {},
   "outputs": [],
   "source": [
    "# Generate some example coordinates\n",
    "ra = np.random.uniform(0, 360, 1000)\n",
    "dec = np.random.uniform(-90, 90, 1000)\n",
    "\n",
    "# Create a WCS object for the all-sky map\n",
    "wcs = WCS(naxis=2)\n",
    "wcs.wcs.equinox = 2000.0\n",
    "wcs.wcs.crpix = [180.0, 90.0]\n",
    "wcs.wcs.cdelt = np.array([-1.0, 1.0])\n",
    "wcs.wcs.ctype = [\"RA---CAR\", \"DEC--CAR\"]\n",
    "\n",
    "# Convert the RA and Dec coordinates to pixel coordinates\n",
    "x, y = wcs.all_world2pix(ra, dec, 0)\n",
    "\n",
    "# Plotting\n",
    "fig = plt.figure(figsize=(10, 5))\n",
    "ax = fig.add_subplot(111, projection=wcs)\n",
    "ax.scatter(x, y, s=10, color='red')\n",
    "ax.grid(color='gray', linestyle='dotted')\n",
    "ax.set_xlabel('Right Ascension (deg)')\n",
    "ax.set_ylabel('Declination (deg)')\n",
    "ax.set_title('All-Sky Map')\n",
    "\n",
    "plt.show()\n"
   ]
  }
 ],
 "metadata": {
  "kernelspec": {
   "display_name": "Python 3",
   "language": "python",
   "name": "python3"
  },
  "language_info": {
   "codemirror_mode": {
    "name": "ipython",
    "version": 3
   },
   "file_extension": ".py",
   "mimetype": "text/x-python",
   "name": "python",
   "nbconvert_exporter": "python",
   "pygments_lexer": "ipython3",
   "version": "3.8.16"
  },
  "orig_nbformat": 4
 },
 "nbformat": 4,
 "nbformat_minor": 2
}

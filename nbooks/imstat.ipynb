{
 "cells": [
  {
   "attachments": {},
   "cell_type": "markdown",
   "metadata": {},
   "source": [
    "# Get Statistics of Final Images"
   ]
  },
  {
   "cell_type": "code",
   "execution_count": 1,
   "metadata": {},
   "outputs": [],
   "source": [
    "import os\n",
    "import numpy as np\n",
    "from astropy.io import fits\n",
    "\n",
    "import matplotlib.pyplot as plt"
   ]
  },
  {
   "attachments": {},
   "cell_type": "markdown",
   "metadata": {},
   "source": [
    "## Load Image"
   ]
  },
  {
   "cell_type": "code",
   "execution_count": 59,
   "metadata": {},
   "outputs": [],
   "source": [
    "cell = 0.3 # arcsec\n",
    "obsname = \"QSO-J1030+0524\"\n",
    "imdir = \"/rds/user/pmk46/hpc-work/19A-056/final\"\n",
    "imfits = os.path.join(imdir, \"images\", f\"{obsname}-res.im-MFS-image.fits\")\n",
    "imfitsV = os.path.join(imdir, \"stokes-V\", f\"{obsname}-res-Stokes-V.im-MFS-image.fits\")\n",
    "image_data = fits.open(imfits)[0].data[0, 0]\n",
    "image_data_V = fits.open(imfitsV)[0].data[0, 0]\n",
    "header = fits.open(imfits)[0].header\n",
    "beam = header[\"BMIN\"] * header[\"BMAJ\"] / (header[\"CDELT2\"] * 2.355)**2\n",
    "\n",
    "peak_flux_px = np.unravel_index(np.argmax(image_data), image_data.shape)\n",
    "peak_flux = image_data[peak_flux_px] * 1000 # mJy\n",
    "centre_px = np.array(image_data.shape) // 2\n",
    "peak_flux_dist = cell * np.sqrt(np.sum((peak_flux_px - centre_px)**2)) / 60 # arcmin\n",
    "\n",
    "cutout_size = 2048\n",
    "\n",
    "def get_cutout(data, cutout_size):\n",
    "    \"\"\" \n",
    "    Get a cutout of the centre of a 2D data array.\n",
    "    \"\"\"\n",
    "\n",
    "    N = data.shape[0]\n",
    "    pc = N // 2\n",
    "\n",
    "    nstart = max(pc - cutout_size // 2, 0)\n",
    "    nend = min(pc + cutout_size // 2, N)\n",
    "    return data[nstart:nend, nstart:nend]\n",
    "\n",
    "image_data_small = get_cutout(image_data, 16)\n",
    "image_data = get_cutout(image_data, cutout_size)\n",
    "image_data_V = get_cutout(image_data_V, cutout_size)"
   ]
  },
  {
   "attachments": {},
   "cell_type": "markdown",
   "metadata": {},
   "source": [
    "## Fit 2D Gaussian to Image Data"
   ]
  },
  {
   "cell_type": "code",
   "execution_count": 60,
   "metadata": {},
   "outputs": [
    {
     "name": "stdout",
     "output_type": "stream",
     "text": [
      "Fitted Parameters:\n",
      "Amplitude: -3.254212480171271e-05\n",
      "Center (x_mean, y_mean): 2.4675765068413784 3.0021434465669925\n",
      "Standard Deviations (x_stddev, y_stddev): 5.217034951806694 1.1754943508222875e-38\n",
      "Integrated Flux Density (Jy): -5.309594879673873e-43\n"
     ]
    }
   ],
   "source": [
    "import numpy as np\n",
    "from astropy.modeling import models, fitting\n",
    "\n",
    "# Generate some sample data\n",
    "N = image_data_small.shape[0]\n",
    "\n",
    "x = np.arange(-N//2, N//2)\n",
    "y = np.arange(-N//2, N//2)\n",
    "X, Y = np.meshgrid(x, y)\n",
    "Z = models.Gaussian2D(1, 0, 0, 2, 3)(X, Y) + np.random.normal(0, 0.1, X.shape)\n",
    "\n",
    "# Create a 2D Gaussian model\n",
    "gaussian_init = models.Gaussian2D(peak_flux, 0, 0, 5, 5)\n",
    "\n",
    "# Define the fitter and fit the model to the data\n",
    "fitter = fitting.LevMarLSQFitter()\n",
    "gaussian_fit = fitter(gaussian_init, X, Y, image_data_small)\n",
    "\n",
    "# Extract the fitted parameters\n",
    "amplitude = gaussian_fit.amplitude.value\n",
    "x_mean = gaussian_fit.x_mean.value\n",
    "y_mean = gaussian_fit.y_mean.value\n",
    "x_stddev = gaussian_fit.x_stddev.value\n",
    "y_stddev = gaussian_fit.y_stddev.value\n",
    "fluxint = amplitude * x_stddev * y_stddev / beam\n",
    "\n",
    "print(\"Fitted Parameters:\")\n",
    "print(\"Amplitude:\", amplitude)\n",
    "print(\"Center (x_mean, y_mean):\", x_mean, y_mean)\n",
    "print(\"Standard Deviations (x_stddev, y_stddev):\", x_stddev, y_stddev)\n",
    "print(\"Integrated Flux Density (Jy):\", fluxint)\n"
   ]
  },
  {
   "attachments": {},
   "cell_type": "markdown",
   "metadata": {},
   "source": [
    "## Compute Image Statistics"
   ]
  },
  {
   "cell_type": "code",
   "execution_count": 61,
   "metadata": {},
   "outputs": [
    {
     "name": "stdout",
     "output_type": "stream",
     "text": [
      "34.46627780795097 0.2847198428084859\n",
      "STOKES I: RMS: 4.158601586823352e-05 Jy, MAD: 3.334190419118386e-05 Jy\n",
      "STOKES V: RMS: 4.599597377819009e-05 Jy, MAD: 4.592431617784313e-05 Jy\n"
     ]
    }
   ],
   "source": [
    "rms = np.sqrt(np.mean(image_data**2))\n",
    "rmsV = np.sqrt(np.mean(image_data_V**2))\n",
    "mad = 1.4826 * np.median(np.abs(image_data - np.median(image_data)))\n",
    "madV = 1.4826 * np.median(np.abs(image_data_V - np.median(image_data_V)))\n",
    "rms_ratio_IV = rms / rmsV\n",
    "mad_ratio_IV = mad / madV\n",
    "snr = np.max(image_data_small) / mad\n",
    "\n",
    "print(peak_flux, peak_flux_dist / 60)\n",
    "print(f\"STOKES I: RMS: {rms} Jy, MAD: {mad} Jy\")\n",
    "print(f\"STOKES V: RMS: {rmsV} Jy, MAD: {madV} Jy\")"
   ]
  },
  {
   "cell_type": "code",
   "execution_count": 63,
   "metadata": {},
   "outputs": [
    {
     "data": {
      "text/plain": [
       "<matplotlib.image.AxesImage at 0x2b366d62e040>"
      ]
     },
     "execution_count": 63,
     "metadata": {},
     "output_type": "execute_result"
    },
    {
     "data": {
      "image/png": "[encoded data removed]",
      "text/plain": [
       "<Figure size 640x480 with 1 Axes>"
      ]
     },
     "metadata": {},
     "output_type": "display_data"
    }
   ],
   "source": [
    "\n",
    "plt.imshow(image_data_small, vmin=-0.0001, vmax=0.0001)"
   ]
  },
  {
   "attachments": {},
   "cell_type": "markdown",
   "metadata": {},
   "source": [
    "## Print Self-Calibration Solution Intervals"
   ]
  },
  {
   "cell_type": "code",
   "execution_count": 44,
   "metadata": {},
   "outputs": [
    {
     "name": "stdout",
     "output_type": "stream",
     "text": [
      "41.733333333333334\n"
     ]
    }
   ],
   "source": [
    "imdir = \"/rds/user/pmk46/hpc-work/19A-056/imaging\"\n",
    "selfcaldir   = os.path.join(imdir, f\"{obsname}\", \"selfcal\")\n",
    "tself_file = os.path.join(selfcaldir, \"tself.txt\")\n",
    "solint_file = os.path.join(selfcaldir, \"solint.pickle\")\n",
    "\n",
    "import pickle\n",
    "with open(solint_file, \"rb\") as file:\n",
    "    solint_dict = pickle.load(file)\n",
    "\n",
    "print(solint_dict[\"ST\"])\n"
   ]
  },
  {
   "attachments": {},
   "cell_type": "markdown",
   "metadata": {},
   "source": []
  },
  {
   "attachments": {},
   "cell_type": "markdown",
   "metadata": {},
   "source": [
    "## Print Flagging Statistics"
   ]
  },
  {
   "cell_type": "code",
   "execution_count": 45,
   "metadata": {},
   "outputs": [],
   "source": [
    "flaggingdir = os.path.join(imdir, f\"{obsname}\", \"flagging\")\n",
    "flagging_before = os.path.join(flaggingdir, \"ao_flags_summary_before.npy\")\n",
    "flagging_after = os.path.join(flaggingdir, \"rflagavg_flags_summary_after.npy\")\n",
    "\n",
    "flagstats_before = np.load(flagging_before, allow_pickle=True).item()\n",
    "flagstats_after = np.load(flagging_after, allow_pickle=True).item()\n"
   ]
  },
  {
   "cell_type": "code",
   "execution_count": 46,
   "metadata": {},
   "outputs": [
    {
     "name": "stdout",
     "output_type": "stream",
     "text": [
      "1.5031995025117142\n"
     ]
    }
   ],
   "source": [
    "flagstat_list = []\n",
    "\n",
    "for spw in flagstats_before[\"spw\"]:\n",
    "    flagstat_list.append((flagstats_after[\"spw\"][spw][\"flagged\"] - flagstats_before[\"spw\"][spw][\"flagged\"]) / flagstats_before[\"spw\"][spw][\"total\"] * 100)\n",
    "\n",
    "print(np.mean(flagstat_list))"
   ]
  },
  {
   "cell_type": "code",
   "execution_count": null,
   "metadata": {},
   "outputs": [],
   "source": []
  }
 ],
 "metadata": {
  "kernelspec": {
   "display_name": "Python 3",
   "language": "python",
   "name": "python3"
  },
  "language_info": {
   "codemirror_mode": {
    "name": "ipython",
    "version": 3
   },
   "file_extension": ".py",
   "mimetype": "text/x-python",
   "name": "python",
   "nbconvert_exporter": "python",
   "pygments_lexer": "ipython3",
   "version": "3.8.16"
  },
  "orig_nbformat": 4
 },
 "nbformat": 4,
 "nbformat_minor": 2
}

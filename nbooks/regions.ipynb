{
 "cells": [
  {
   "attachments": {},
   "cell_type": "markdown",
   "metadata": {},
   "source": [
    "# Region Statistics\n",
    "In an initial inspection of the dirty images, regions are created around prominent sources. What is the distribution of the source distances from the field centres? The plot below are used to identify a suitable FOV for subsequent imaging and source subtraction."
   ]
  },
  {
   "cell_type": "code",
   "execution_count": null,
   "metadata": {},
   "outputs": [],
   "source": [
    "import re\n",
    "import glob\n",
    "import numpy as np \n",
    "\n",
    "import casatools\n",
    "import astropy.units as u\n",
    "from astropy.coordinates import SkyCoord\n",
    "\n",
    "import matplotlib.pyplot as plt"
   ]
  },
  {
   "attachments": {},
   "cell_type": "markdown",
   "metadata": {},
   "source": [
    "## Get Source Distances from Field Centres"
   ]
  },
  {
   "cell_type": "code",
   "execution_count": null,
   "metadata": {},
   "outputs": [
    {
     "name": "stderr",
     "output_type": "stream",
     "text": [
      "2023-05-02 12:58:46\tINFO\tmsmetadata_cmpt.cc::open\tPerforming internal consistency checks on /home/pmk46/rds/hpc-work/19A-056/ms/QSO-J0028+0457.ms...\n"
     ]
    },
    {
     "name": "stdout",
     "output_type": "stream",
     "text": [
      "QSO-J0028+0457 13\n"
     ]
    },
    {
     "name": "stderr",
     "output_type": "stream",
     "text": [
      "2023-05-02 12:58:49\tINFO\tmsmetadata_cmpt.cc::open\tPerforming internal consistency checks on /home/pmk46/rds/hpc-work/19A-056/ms/QSO-J1512+4422.ms...\n"
     ]
    },
    {
     "name": "stdout",
     "output_type": "stream",
     "text": [
      "QSO-J1512+4422 19\n"
     ]
    },
    {
     "name": "stderr",
     "output_type": "stream",
     "text": [
      "2023-05-02 12:58:52\tINFO\tmsmetadata_cmpt.cc::open\tPerforming internal consistency checks on /home/pmk46/rds/hpc-work/19A-056/ms/QSO-J0001+0006.ms...\n"
     ]
    },
    {
     "name": "stdout",
     "output_type": "stream",
     "text": [
      "QSO-J0001+0006 21\n"
     ]
    },
    {
     "name": "stderr",
     "output_type": "stream",
     "text": [
      "2023-05-02 12:58:55\tINFO\tmsmetadata_cmpt.cc::open\tPerforming internal consistency checks on /home/pmk46/rds/hpc-work/19A-056/ms/QSO-J0024+3913.ms...\n"
     ]
    },
    {
     "name": "stdout",
     "output_type": "stream",
     "text": [
      "QSO-J0024+3913 13\n"
     ]
    },
    {
     "name": "stderr",
     "output_type": "stream",
     "text": [
      "2023-05-02 12:58:58\tINFO\tmsmetadata_cmpt.cc::open\tPerforming internal consistency checks on /home/pmk46/rds/hpc-work/19A-056/ms/QSO-J0038-1025.ms...\n"
     ]
    },
    {
     "name": "stdout",
     "output_type": "stream",
     "text": [
      "QSO-J0038-1025 29\n"
     ]
    },
    {
     "name": "stderr",
     "output_type": "stream",
     "text": [
      "2023-05-02 12:59:00\tINFO\tmsmetadata_cmpt.cc::open\tPerforming internal consistency checks on /home/pmk46/rds/hpc-work/19A-056/ms/QSO-J1429-0002.ms...\n"
     ]
    },
    {
     "name": "stdout",
     "output_type": "stream",
     "text": [
      "QSO-J1429-0002 18\n"
     ]
    },
    {
     "name": "stderr",
     "output_type": "stream",
     "text": [
      "2023-05-02 12:59:03\tINFO\tmsmetadata_cmpt.cc::open\tPerforming internal consistency checks on /home/pmk46/rds/hpc-work/19A-056/ms/QSO-J1509-1749.ms...\n"
     ]
    },
    {
     "name": "stdout",
     "output_type": "stream",
     "text": [
      "QSO-J1509-1749 14\n"
     ]
    },
    {
     "name": "stderr",
     "output_type": "stream",
     "text": [
      "2023-05-02 12:59:06\tINFO\tmsmetadata_cmpt.cc::open\tPerforming internal consistency checks on /home/pmk46/rds/hpc-work/19A-056/ms/QSO-J0421-2657.ms...\n"
     ]
    },
    {
     "name": "stdout",
     "output_type": "stream",
     "text": [
      "QSO-J0421-2657 24\n"
     ]
    },
    {
     "name": "stderr",
     "output_type": "stream",
     "text": [
      "2023-05-02 12:59:08\tINFO\tmsmetadata_cmpt.cc::open\tPerforming internal consistency checks on /home/pmk46/rds/hpc-work/19A-056/ms/QSO-J0033-0125.ms...\n"
     ]
    },
    {
     "name": "stdout",
     "output_type": "stream",
     "text": [
      "QSO-J0033-0125 32\n"
     ]
    },
    {
     "name": "stderr",
     "output_type": "stream",
     "text": [
      "2023-05-02 12:59:12\tINFO\tmsmetadata_cmpt.cc::open\tPerforming internal consistency checks on /home/pmk46/rds/hpc-work/19A-056/ms/QSO-J0100+2802.ms...\n"
     ]
    },
    {
     "name": "stdout",
     "output_type": "stream",
     "text": [
      "QSO-J0100+2802 38\n"
     ]
    },
    {
     "name": "stderr",
     "output_type": "stream",
     "text": [
      "2023-05-02 12:59:14\tINFO\tmsmetadata_cmpt.cc::open\tPerforming internal consistency checks on /home/pmk46/rds/hpc-work/19A-056/ms/QSO-J1932+7139.ms...\n"
     ]
    },
    {
     "name": "stdout",
     "output_type": "stream",
     "text": [
      "QSO-J1932+7139 38\n"
     ]
    },
    {
     "name": "stderr",
     "output_type": "stream",
     "text": [
      "2023-05-02 12:59:17\tINFO\tmsmetadata_cmpt.cc::open\tPerforming internal consistency checks on /home/pmk46/rds/hpc-work/19A-056/ms/QSO-J1629+2407.ms...\n"
     ]
    },
    {
     "name": "stdout",
     "output_type": "stream",
     "text": [
      "QSO-J1629+2407 35\n"
     ]
    },
    {
     "name": "stderr",
     "output_type": "stream",
     "text": [
      "2023-05-02 12:59:19\tINFO\tmsmetadata_cmpt.cc::open\tPerforming internal consistency checks on /home/pmk46/rds/hpc-work/19A-056/ms/QSO-J1526-2050.ms...\n"
     ]
    },
    {
     "name": "stdout",
     "output_type": "stream",
     "text": [
      "QSO-J1526-2050 15\n"
     ]
    },
    {
     "name": "stderr",
     "output_type": "stream",
     "text": [
      "2023-05-02 12:59:22\tINFO\tmsmetadata_cmpt.cc::open\tPerforming internal consistency checks on /home/pmk46/rds/hpc-work/19A-056/ms/QSO-J0055+0146.ms...\n"
     ]
    },
    {
     "name": "stdout",
     "output_type": "stream",
     "text": [
      "QSO-J0055+0146 21\n"
     ]
    },
    {
     "name": "stderr",
     "output_type": "stream",
     "text": [
      "2023-05-02 12:59:25\tINFO\tmsmetadata_cmpt.cc::open\tPerforming internal consistency checks on /home/pmk46/rds/hpc-work/19A-056/ms/QSO-J0001+0000.ms...\n"
     ]
    },
    {
     "name": "stdout",
     "output_type": "stream",
     "text": [
      "QSO-J0001+0000 20\n"
     ]
    },
    {
     "name": "stderr",
     "output_type": "stream",
     "text": [
      "2023-05-02 12:59:27\tINFO\tmsmetadata_cmpt.cc::open\tPerforming internal consistency checks on /home/pmk46/rds/hpc-work/19A-056/ms/QSO-J0050+3445.ms...\n"
     ]
    },
    {
     "name": "stdout",
     "output_type": "stream",
     "text": [
      "QSO-J0050+3445 29\n"
     ]
    },
    {
     "name": "stderr",
     "output_type": "stream",
     "text": [
      "2023-05-02 12:59:30\tINFO\tmsmetadata_cmpt.cc::open\tPerforming internal consistency checks on /home/pmk46/rds/hpc-work/19A-056/ms/QSO-J0106-0030.ms...\n"
     ]
    },
    {
     "name": "stdout",
     "output_type": "stream",
     "text": [
      "QSO-J0106-0030 22\n"
     ]
    },
    {
     "name": "stderr",
     "output_type": "stream",
     "text": [
      "2023-05-02 12:59:32\tINFO\tmsmetadata_cmpt.cc::open\tPerforming internal consistency checks on /home/pmk46/rds/hpc-work/19A-056/ms/QSO-J1525+4303.ms...\n"
     ]
    },
    {
     "name": "stdout",
     "output_type": "stream",
     "text": [
      "QSO-J1525+4303 24\n"
     ]
    },
    {
     "name": "stderr",
     "output_type": "stream",
     "text": [
      "2023-05-02 12:59:35\tINFO\tmsmetadata_cmpt.cc::open\tPerforming internal consistency checks on /home/pmk46/rds/hpc-work/19A-056/ms/QSO-J0004-0049.ms...\n"
     ]
    },
    {
     "name": "stdout",
     "output_type": "stream",
     "text": [
      "QSO-J0004-0049 31\n"
     ]
    },
    {
     "name": "stderr",
     "output_type": "stream",
     "text": [
      "2023-05-02 12:59:38\tINFO\tmsmetadata_cmpt.cc::open\tPerforming internal consistency checks on /home/pmk46/rds/hpc-work/19A-056/ms/QSO-J1558-0724.ms...\n"
     ]
    },
    {
     "name": "stdout",
     "output_type": "stream",
     "text": [
      "QSO-J1558-0724 19\n"
     ]
    },
    {
     "name": "stderr",
     "output_type": "stream",
     "text": [
      "2023-05-02 12:59:40\tINFO\tmsmetadata_cmpt.cc::open\tPerforming internal consistency checks on /home/pmk46/rds/hpc-work/19A-056/ms/QSO-J0045+0901.ms...\n"
     ]
    },
    {
     "name": "stdout",
     "output_type": "stream",
     "text": [
      "QSO-J0045+0901 22\n"
     ]
    },
    {
     "name": "stderr",
     "output_type": "stream",
     "text": [
      "2023-05-02 12:59:43\tINFO\tmsmetadata_cmpt.cc::open\tPerforming internal consistency checks on /home/pmk46/rds/hpc-work/19A-056/ms/QSO-J1516+4228.ms...\n"
     ]
    },
    {
     "name": "stdout",
     "output_type": "stream",
     "text": [
      "QSO-J1516+4228 26\n"
     ]
    },
    {
     "name": "stderr",
     "output_type": "stream",
     "text": [
      "2023-05-02 12:59:45\tINFO\tmsmetadata_cmpt.cc::open\tPerforming internal consistency checks on /home/pmk46/rds/hpc-work/19A-056/ms/QSO-J0009+3252.ms...\n"
     ]
    },
    {
     "name": "stdout",
     "output_type": "stream",
     "text": [
      "QSO-J0009+3252 24\n"
     ]
    },
    {
     "name": "stderr",
     "output_type": "stream",
     "text": [
      "2023-05-02 12:59:48\tINFO\tmsmetadata_cmpt.cc::open\tPerforming internal consistency checks on /home/pmk46/rds/hpc-work/19A-056/ms/QSO-J1429-0104.ms...\n"
     ]
    },
    {
     "name": "stdout",
     "output_type": "stream",
     "text": [
      "QSO-J1429-0104 7\n"
     ]
    }
   ],
   "source": [
    "filelist = glob.glob(\"/home/pmk46/rds/hpc-work/19A-056/inspect/*/*-regions\")\n",
    "\n",
    "# list to store source distances\n",
    "dclist = []\n",
    "reglen = []\n",
    "\n",
    "for fname in filelist:\n",
    "    # get field name and corresponding measurement set\n",
    "    field = re.search(\"QSO-J[0-9]+[+-][0-9]+\", fname)[0]\n",
    "    ms = f\"/home/pmk46/rds/hpc-work/19A-056/ms/{field}.ms\"\n",
    "\n",
    "    # get phase centre of measurement set\n",
    "    md = casatools.msmetadata()\n",
    "    md.open(ms)\n",
    "    pc = md.phasecenter()\n",
    "    c0 = SkyCoord(ra=pc[\"m0\"][\"value\"], dec=pc[\"m1\"][\"value\"], unit=pc[\"m0\"][\"unit\"])\n",
    "\n",
    "    # read CRTF regions file\n",
    "    with open(fname) as file:\n",
    "        regions = [line.rstrip() for line in file]\n",
    "    \n",
    "    print(field, len(regions))\n",
    "    reglen.append(len(regions))\n",
    "\n",
    "    for region in regions[1:]:\n",
    "        # get RA/DEC\n",
    "        ra = re.search(\"[0-9]+:[0-9]+:[0-9]+.[0-9]+\", region)[0]\n",
    "        dec = re.search(\"[+-][0-9]+.[0-9]+.[0-9]+.[0-9]+\", region)[0]\n",
    "\n",
    "        # replace the first two '.' with ':' in dec string\n",
    "        dec = list(dec)\n",
    "        dec[4]=\":\"\n",
    "        dec[7]=\":\"\n",
    "\n",
    "        # get source coordinates\n",
    "        c = SkyCoord(ra+\" \"+\"\".join(dec), unit=(u.hourangle, u.deg))\n",
    "\n",
    "        # get source distance from field centre in arcmin and add to list\n",
    "        dc = c0.separation(c).arcmin\n",
    "        dclist.append(dc)"
   ]
  },
  {
   "cell_type": "code",
   "execution_count": 7,
   "metadata": {},
   "outputs": [
    {
     "name": "stdout",
     "output_type": "stream",
     "text": [
      "38\n"
     ]
    }
   ],
   "source": [
    "print(np.max(reglen))"
   ]
  },
  {
   "attachments": {},
   "cell_type": "markdown",
   "metadata": {},
   "source": [
    "## Plot\n",
    "From the plots below, we see that the source number reaches a minimum at 25 arcminutes from the field centre before rising again due to the first sidelobe. Hence, we should image up to about 30 arcminutes (~6000 cells at a cell size of 0.3 arcsec) and subtract sources at a distance greater than 25 arcminutes from the field centre."
   ]
  },
  {
   "attachments": {},
   "cell_type": "markdown",
   "metadata": {},
   "source": [
    "### Distance Distribution"
   ]
  },
  {
   "cell_type": "code",
   "execution_count": 3,
   "metadata": {},
   "outputs": [
    {
     "data": {
      "text/plain": [
       "<matplotlib.legend.Legend at 0x2ba258adb130>"
      ]
     },
     "execution_count": 3,
     "metadata": {},
     "output_type": "execute_result"
    },
    {
     "data": {
      "image/png": "[encoded data removed]",
      "text/plain": [
       "<Figure size 640x480 with 1 Axes>"
      ]
     },
     "metadata": {},
     "output_type": "display_data"
    }
   ],
   "source": [
    "bins = np.arange(0, 80, 2)\n",
    "hist, binedges = np.histogram(dclist, bins)\n",
    "bincentres = 0.5 * (binedges[1:] + binedges[:-1])\n",
    "histerr = np.sqrt(hist)\n",
    "plt.step(bincentres, hist, color=\"b\", label=\"Data\")\n",
    "plt.step(bincentres, hist - histerr, color=\"b\", linewidth=0.5, alpha=0.5)\n",
    "plt.step(bincentres, hist + histerr, color=\"b\", linewidth=0.5, alpha=0.5)\n",
    "plt.fill_between(bincentres, hist - histerr, hist + histerr, step=\"pre\", alpha=0.2, label=r\"$1\\sigma$\")\n",
    "plt.title(\"Distribution of Source Distances from Field Centres\")\n",
    "plt.xlabel(\"Distance from Field Centre (arcmin)\")\n",
    "plt.ylabel(\"Number of Sources\")\n",
    "plt.xlim([0, 80])\n",
    "plt.legend()"
   ]
  },
  {
   "attachments": {},
   "cell_type": "markdown",
   "metadata": {},
   "source": [
    "### Cumulative Distribution"
   ]
  },
  {
   "cell_type": "code",
   "execution_count": 4,
   "metadata": {},
   "outputs": [
    {
     "data": {
      "text/plain": [
       "(0.0, 80.0)"
      ]
     },
     "execution_count": 4,
     "metadata": {},
     "output_type": "execute_result"
    },
    {
     "data": {
      "image/png": "[encoded data removed]",
      "text/plain": [
       "<Figure size 640x480 with 1 Axes>"
      ]
     },
     "metadata": {},
     "output_type": "display_data"
    }
   ],
   "source": [
    "cdist = np.array([np.sum(hist[:i]) for i in range(len(bins))], dtype=float)\n",
    "cdist /= np.sum(hist)\n",
    "\n",
    "plt.step(bins, cdist, color=\"b\", label=\"Data\")\n",
    "plt.title(\"Cumulative Distribution of Source Distances from Field Centres\")\n",
    "plt.xlabel(r\"Distance $D$ from Field Centre (arcmin)\")\n",
    "plt.ylabel(r\"CDF($D$)\")\n",
    "plt.xlim([0, 80])"
   ]
  },
  {
   "cell_type": "code",
   "execution_count": null,
   "metadata": {},
   "outputs": [],
   "source": []
  }
 ],
 "metadata": {
  "kernelspec": {
   "display_name": "Python 3",
   "language": "python",
   "name": "python3"
  },
  "language_info": {
   "codemirror_mode": {
    "name": "ipython",
    "version": 3
   },
   "file_extension": ".py",
   "mimetype": "text/x-python",
   "name": "python",
   "nbconvert_exporter": "python",
   "pygments_lexer": "ipython3",
   "version": "3.8.16"
  },
  "orig_nbformat": 4
 },
 "nbformat": 4,
 "nbformat_minor": 2
}
